{
 "cells": [
  {
   "cell_type": "code",
   "execution_count": 1,
   "id": "c6cb05a8",
   "metadata": {},
   "outputs": [],
   "source": [
    "import cv2\n",
    "from PIL import Image"
   ]
  },
  {
   "cell_type": "markdown",
   "id": "f63ad488",
   "metadata": {},
   "source": [
    "To read an Image in open cv we use the below method"
   ]
  },
  {
   "cell_type": "markdown",
   "id": "0ac5ba84",
   "metadata": {},
   "source": [
    "PIL is pillow it's a Image module"
   ]
  },
  {
   "cell_type": "code",
   "execution_count": 22,
   "id": "2693d597",
   "metadata": {},
   "outputs": [
    {
     "data": {
      "text/plain": [
       "array([[206, 206, 206, ..., 185, 185, 185],\n",
       "       [206, 206, 206, ..., 185, 185, 185],\n",
       "       [206, 206, 206, ..., 186, 185, 185],\n",
       "       ...,\n",
       "       [207, 207, 207, ..., 191, 190, 190],\n",
       "       [207, 207, 207, ..., 191, 190, 190],\n",
       "       [207, 207, 207, ..., 191, 191, 190]], dtype=uint8)"
      ]
     },
     "execution_count": 22,
     "metadata": {},
     "output_type": "execute_result"
    }
   ],
   "source": [
    "img=cv2.imread('clear_image.jpg',flags=cv2.IMREAD_GRAYSCALE)\n",
    "img"
   ]
  },
  {
   "cell_type": "code",
   "execution_count": 23,
   "id": "41e27710",
   "metadata": {},
   "outputs": [],
   "source": [
    "Image.fromarray(img).show()"
   ]
  },
  {
   "cell_type": "markdown",
   "id": "0bdb8869",
   "metadata": {},
   "source": [
    "# Two thresholding techniques in computer vision to overcome unclear image issues,"
   ]
  },
  {
   "cell_type": "markdown",
   "id": "8add2d8e",
   "metadata": {},
   "source": [
    "1.Simple thresholding"
   ]
  },
  {
   "cell_type": "markdown",
   "id": "6b869d91",
   "metadata": {},
   "source": [
    "2.Adaptive thresholding"
   ]
  },
  {
   "cell_type": "code",
   "execution_count": 24,
   "id": "e8c6f0b8",
   "metadata": {},
   "outputs": [],
   "source": [
    "_,new_img=cv2.threshold(img,150,255,cv2.THRESH_BINARY)"
   ]
  },
  {
   "cell_type": "code",
   "execution_count": 25,
   "id": "69d278df",
   "metadata": {},
   "outputs": [],
   "source": [
    "Image.fromarray(new_img).show()"
   ]
  },
  {
   "cell_type": "markdown",
   "id": "bdda80be",
   "metadata": {},
   "source": [
    "simple thresholding will work on the clear images it doesn't work on the dark images that's why we need to go for adaptive thresholding"
   ]
  },
  {
   "cell_type": "code",
   "execution_count": 26,
   "id": "be760a88",
   "metadata": {},
   "outputs": [
    {
     "data": {
      "text/plain": [
       "array([[206, 206, 206, ..., 187, 186, 184],\n",
       "       [206, 206, 206, ..., 186, 185, 185],\n",
       "       [206, 206, 206, ..., 186, 185, 185],\n",
       "       ...,\n",
       "       [162, 157, 152, ..., 184, 184, 184],\n",
       "       [160, 156, 152, ..., 184, 184, 184],\n",
       "       [156, 158, 158, ..., 184, 184, 184]], dtype=uint8)"
      ]
     },
     "execution_count": 26,
     "metadata": {},
     "output_type": "execute_result"
    }
   ],
   "source": [
    "img1=cv2.imread('dark_image.jpg',flags=cv2.IMREAD_GRAYSCALE)\n",
    "img1"
   ]
  },
  {
   "cell_type": "code",
   "execution_count": 39,
   "id": "9913d9a7",
   "metadata": {},
   "outputs": [],
   "source": [
    "new_img=cv2.adaptiveThreshold(\n",
    "    img1,255,cv2.ADAPTIVE_THRESH_GAUSSIAN_C,cv2.THRESH_BINARY,\n",
    "    61,25\n",
    "    \n",
    ")\n",
    "Image.fromarray(new_img).show()"
   ]
  },
  {
   "cell_type": "code",
   "execution_count": null,
   "id": "2a6153f1",
   "metadata": {},
   "outputs": [],
   "source": []
  }
 ],
 "metadata": {
  "kernelspec": {
   "display_name": "Python 3 (ipykernel)",
   "language": "python",
   "name": "python3"
  },
  "language_info": {
   "codemirror_mode": {
    "name": "ipython",
    "version": 3
   },
   "file_extension": ".py",
   "mimetype": "text/x-python",
   "name": "python",
   "nbconvert_exporter": "python",
   "pygments_lexer": "ipython3",
   "version": "3.8.10"
  }
 },
 "nbformat": 4,
 "nbformat_minor": 5
}
