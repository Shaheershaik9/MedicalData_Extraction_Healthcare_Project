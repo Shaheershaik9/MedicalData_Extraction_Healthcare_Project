{
 "cells": [
  {
   "cell_type": "code",
   "execution_count": 1,
   "id": "3455a1c3",
   "metadata": {},
   "outputs": [],
   "source": [
    "import re"
   ]
  },
  {
   "cell_type": "code",
   "execution_count": 12,
   "id": "d599a27d",
   "metadata": {},
   "outputs": [],
   "source": [
    "text='''\n",
    "Name: Marta Sharapova Date: 5/11/2022\n",
    "\n",
    "Address: 9 tennis court, new Russia, DC\n",
    "\n",
    "\n",
    "\n",
    "Prednisone 20 mg\n",
    "Lialda 2.4 gram\n",
    "\n",
    "Directions:\n",
    "\n",
    "Prednisone, Taper 5 mg every 3 days,\n",
    "Finish in 2.5 weeks a\n",
    "Lialda - take 2 pill everyday for 1 month\n",
    "\n",
    "Refill: 2 times'''\n",
    "    "
   ]
  },
  {
   "cell_type": "code",
   "execution_count": 5,
   "id": "f3a529fc",
   "metadata": {},
   "outputs": [
    {
     "data": {
      "text/plain": [
       "'Marta Sharapova'"
      ]
     },
     "execution_count": 5,
     "metadata": {},
     "output_type": "execute_result"
    }
   ],
   "source": [
    "pattern = \"Name:.(.*)Date\"\n",
    "match=re.findall(pattern,text)\n",
    "match[0].strip()"
   ]
  },
  {
   "cell_type": "raw",
   "id": "d839a66b",
   "metadata": {},
   "source": [
    "match[0].strip() this function in python will remove the extra front and back spaces in code"
   ]
  },
  {
   "cell_type": "code",
   "execution_count": 6,
   "id": "71ad4d67",
   "metadata": {},
   "outputs": [
    {
     "data": {
      "text/plain": [
       "'9 tennis court, new Russia, DC'"
      ]
     },
     "execution_count": 6,
     "metadata": {},
     "output_type": "execute_result"
    }
   ],
   "source": [
    "pattern = \"Address:(.*)\\n\"\n",
    "match=re.findall(pattern,text)\n",
    "match[0].strip()"
   ]
  },
  {
   "cell_type": "code",
   "execution_count": 13,
   "id": "ac18545f",
   "metadata": {},
   "outputs": [
    {
     "name": "stdout",
     "output_type": "stream",
     "text": [
      "Prednisone 20 mg\n",
      "Lialda 2.4 gram\n"
     ]
    }
   ],
   "source": [
    "pattern = \"Address:[^\\n]*(.*)Directions\"\n",
    "match=re.findall(pattern,text,flags=re.DOTALL)\n",
    "print(match[0].strip())"
   ]
  },
  {
   "cell_type": "code",
   "execution_count": 16,
   "id": "b27a797a",
   "metadata": {},
   "outputs": [
    {
     "name": "stdout",
     "output_type": "stream",
     "text": [
      "Prednisone, Taper 5 mg every 3 days,\n",
      "Finish in 2.5 weeks a\n",
      "Lialda - take 2 pill everyday for 1 month\n"
     ]
    }
   ],
   "source": [
    "pattern = \"Directions:(.*)Refill\"\n",
    "match=re.findall(pattern,text,flags=re.DOTALL)\n",
    "print(match[0].strip())"
   ]
  },
  {
   "cell_type": "code",
   "execution_count": 17,
   "id": "6658f60b",
   "metadata": {},
   "outputs": [
    {
     "name": "stdout",
     "output_type": "stream",
     "text": [
      "2\n"
     ]
    }
   ],
   "source": [
    "pattern = \"Refill:.(.*).times\"\n",
    "match=re.findall(pattern,text,flags=re.DOTALL)\n",
    "print(match[0].strip())"
   ]
  },
  {
   "cell_type": "code",
   "execution_count": null,
   "id": "f2a75956",
   "metadata": {},
   "outputs": [],
   "source": []
  }
 ],
 "metadata": {
  "kernelspec": {
   "display_name": "Python 3 (ipykernel)",
   "language": "python",
   "name": "python3"
  },
  "language_info": {
   "codemirror_mode": {
    "name": "ipython",
    "version": 3
   },
   "file_extension": ".py",
   "mimetype": "text/x-python",
   "name": "python",
   "nbconvert_exporter": "python",
   "pygments_lexer": "ipython3",
   "version": "3.8.10"
  }
 },
 "nbformat": 4,
 "nbformat_minor": 5
}
