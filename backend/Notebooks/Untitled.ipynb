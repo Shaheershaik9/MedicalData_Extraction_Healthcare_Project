{
 "cells": [
  {
   "cell_type": "code",
   "execution_count": 1,
   "id": "f9437524",
   "metadata": {},
   "outputs": [],
   "source": [
    "from pdf2image import convert_from_path"
   ]
  },
  {
   "cell_type": "code",
   "execution_count": null,
   "id": "00e07d60",
   "metadata": {},
   "outputs": [],
   "source": [
    "pages=convert_from_path(r'resources/patient/pre_1.pdf',poppler_path=r'C:/poppler-23.01.0/Library/bin')"
   ]
  }
 ],
 "metadata": {
  "kernelspec": {
   "display_name": "Python 3 (ipykernel)",
   "language": "python",
   "name": "python3"
  },
  "language_info": {
   "codemirror_mode": {
    "name": "ipython",
    "version": 3
   },
   "file_extension": ".py",
   "mimetype": "text/x-python",
   "name": "python",
   "nbconvert_exporter": "python",
   "pygments_lexer": "ipython3",
   "version": "3.8.10"
  }
 },
 "nbformat": 4,
 "nbformat_minor": 5
}
